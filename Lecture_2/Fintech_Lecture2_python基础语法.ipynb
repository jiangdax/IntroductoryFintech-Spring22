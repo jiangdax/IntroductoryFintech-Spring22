{
 "cells": [
  {
   "cell_type": "markdown",
   "id": "f1584b26",
   "metadata": {},
   "source": [
    "# Python基础语法"
   ]
  },
  {
   "cell_type": "markdown",
   "id": "26633823",
   "metadata": {},
   "source": [
    "   ## 第一个代码 >>>hello word"
   ]
  },
  {
   "cell_type": "code",
   "execution_count": 80,
   "id": "7cac4a2b",
   "metadata": {},
   "outputs": [],
   "source": [
    "#！/usr/bin/python3\n",
    "# 指出要用什么可执行程序去运行代码。告诉操作系统执行这个脚本的时候，调用 /usr/bin下的 python3 解释器"
   ]
  },
  {
   "cell_type": "code",
   "execution_count": 3,
   "id": "b6cbf0c3",
   "metadata": {},
   "outputs": [
    {
     "name": "stdout",
     "output_type": "stream",
     "text": [
      "小伙，你很帅\n"
     ]
    }
   ],
   "source": [
    "print('小伙，你很帅')"
   ]
  },
  {
   "cell_type": "code",
   "execution_count": 4,
   "id": "53b340c6",
   "metadata": {},
   "outputs": [
    {
     "name": "stdout",
     "output_type": "stream",
     "text": [
      "谢谢，你也很帅\n"
     ]
    }
   ],
   "source": [
    "print('谢谢，你也很帅')"
   ]
  },
  {
   "cell_type": "markdown",
   "id": "09ea74c2",
   "metadata": {},
   "source": [
    "## 编码\n",
    "- 用 # -*-conding：xxx -*- 的格式"
   ]
  },
  {
   "cell_type": "code",
   "execution_count": 5,
   "id": "43e52597",
   "metadata": {},
   "outputs": [],
   "source": [
    "# -*-coding:cp-1252-*-"
   ]
  },
  {
   "cell_type": "markdown",
   "id": "e1751ebf",
   "metadata": {},
   "source": [
    "## 标识符\n",
    "- 只能用Aa_1符号\n",
    "- 避免关键词\n",
    "- 数字不能作为开头"
   ]
  },
  {
   "cell_type": "code",
   "execution_count": 83,
   "id": "c2075002",
   "metadata": {},
   "outputs": [],
   "source": [
    "# 正确命名\n",
    "ABCD = 1\n",
    "abcd = 2\n",
    "_abcd =3\n",
    "Aa1 = 4"
   ]
  },
  {
   "cell_type": "code",
   "execution_count": 84,
   "id": "bb3fde71",
   "metadata": {},
   "outputs": [
    {
     "ename": "SyntaxError",
     "evalue": "invalid syntax (<ipython-input-84-9fbe97163a33>, line 2)",
     "output_type": "error",
     "traceback": [
      "\u001b[1;36m  File \u001b[1;32m\"<ipython-input-84-9fbe97163a33>\"\u001b[1;36m, line \u001b[1;32m2\u001b[0m\n\u001b[1;33m    1a = 2\u001b[0m\n\u001b[1;37m     ^\u001b[0m\n\u001b[1;31mSyntaxError\u001b[0m\u001b[1;31m:\u001b[0m invalid syntax\n"
     ]
    }
   ],
   "source": [
    "#错误 & and\n",
    "1a = 2"
   ]
  },
  {
   "cell_type": "markdown",
   "id": "256da4bd",
   "metadata": {},
   "source": [
    "## 关键词\n",
    "- 关键词加tab自动补齐"
   ]
  },
  {
   "cell_type": "code",
   "execution_count": 32,
   "id": "16aa38d7",
   "metadata": {},
   "outputs": [],
   "source": [
    "import keyword"
   ]
  },
  {
   "cell_type": "code",
   "execution_count": 33,
   "id": "28e7e87f",
   "metadata": {},
   "outputs": [
    {
     "data": {
      "text/plain": [
       "['False',\n",
       " 'None',\n",
       " 'True',\n",
       " 'and',\n",
       " 'as',\n",
       " 'assert',\n",
       " 'async',\n",
       " 'await',\n",
       " 'break',\n",
       " 'class',\n",
       " 'continue',\n",
       " 'def',\n",
       " 'del',\n",
       " 'elif',\n",
       " 'else',\n",
       " 'except',\n",
       " 'finally',\n",
       " 'for',\n",
       " 'from',\n",
       " 'global',\n",
       " 'if',\n",
       " 'import',\n",
       " 'in',\n",
       " 'is',\n",
       " 'lambda',\n",
       " 'nonlocal',\n",
       " 'not',\n",
       " 'or',\n",
       " 'pass',\n",
       " 'raise',\n",
       " 'return',\n",
       " 'try',\n",
       " 'while',\n",
       " 'with',\n",
       " 'yield']"
      ]
     },
     "execution_count": 33,
     "metadata": {},
     "output_type": "execute_result"
    }
   ],
   "source": [
    "# 显示关键词\n",
    "keyword.kwlist"
   ]
  },
  {
   "cell_type": "markdown",
   "id": "cc683692",
   "metadata": {},
   "source": [
    "## 正确加入注释\n",
    "1. #加空格\n",
    "2. '''三个单引号或双引号\n",
    "    '''"
   ]
  },
  {
   "cell_type": "code",
   "execution_count": 34,
   "id": "b167304d",
   "metadata": {},
   "outputs": [
    {
     "name": "stdout",
     "output_type": "stream",
     "text": [
      "Hello, Python!\n"
     ]
    }
   ],
   "source": [
    "''' Hello, Python\n",
    "Hello, Python '''\n",
    "print (\"Hello, Python!\")\n"
   ]
  },
  {
   "cell_type": "markdown",
   "id": "2648890b",
   "metadata": {},
   "source": [
    "## 正确缩进"
   ]
  },
  {
   "cell_type": "code",
   "execution_count": 35,
   "id": "2dd0d590",
   "metadata": {},
   "outputs": [
    {
     "name": "stdout",
     "output_type": "stream",
     "text": [
      "True\n"
     ]
    }
   ],
   "source": [
    "if True:\n",
    "    print('True')\n",
    "else:\n",
    "    print('False')"
   ]
  },
  {
   "cell_type": "code",
   "execution_count": 42,
   "id": "8b99d000",
   "metadata": {},
   "outputs": [
    {
     "name": "stdout",
     "output_type": "stream",
     "text": [
      "Answer\n",
      "True\n"
     ]
    }
   ],
   "source": [
    "if True:\n",
    "    print(\"Answer\")\n",
    "    print('True')\n",
    "else:\n",
    "    print(\"False\")\n",
    "    print('Answer')"
   ]
  },
  {
   "cell_type": "markdown",
   "id": "6ae881b4",
   "metadata": {},
   "source": [
    "## 多行代码"
   ]
  },
  {
   "cell_type": "code",
   "execution_count": 55,
   "id": "61de9ad5",
   "metadata": {},
   "outputs": [],
   "source": [
    "total = \"item_1\" +\\\n",
    "\"item_2\""
   ]
  },
  {
   "cell_type": "code",
   "execution_count": 53,
   "id": "000af6ae",
   "metadata": {},
   "outputs": [
    {
     "name": "stdout",
     "output_type": "stream",
     "text": [
      "item_1item_2\n"
     ]
    }
   ],
   "source": [
    "print(total)"
   ]
  },
  {
   "attachments": {
    "image-2.png": {
     "image/png": "[encoded data removed]"
    }
   },
   "cell_type": "markdown",
   "id": "d0bd4620",
   "metadata": {},
   "source": [
    "## 转意\n",
    "![image-2.png](attachment:image-2.png)"
   ]
  },
  {
   "cell_type": "code",
   "execution_count": 56,
   "id": "238729cd",
   "metadata": {},
   "outputs": [],
   "source": [
    "str1 = 'hello\\nshuige'\n",
    "str2 = r'hello \\n shuaige'"
   ]
  },
  {
   "cell_type": "code",
   "execution_count": 73,
   "id": "eb9d2e59",
   "metadata": {},
   "outputs": [
    {
     "name": "stdout",
     "output_type": "stream",
     "text": [
      "hello\n",
      "shuige\n"
     ]
    }
   ],
   "source": [
    "print('hello\\nshuige')"
   ]
  },
  {
   "cell_type": "code",
   "execution_count": 59,
   "id": "8dd70db9",
   "metadata": {},
   "outputs": [
    {
     "name": "stdout",
     "output_type": "stream",
     "text": [
      "hello\\bigshuaige\n"
     ]
    }
   ],
   "source": [
    "print(str2)"
   ]
  },
  {
   "cell_type": "code",
   "execution_count": 68,
   "id": "7c3dc9a8",
   "metadata": {},
   "outputs": [
    {
     "name": "stdout",
     "output_type": "stream",
     "text": [
      "hello\n",
      "runoob\n"
     ]
    }
   ],
   "source": [
    "print('hello\\nrunoob') "
   ]
  },
  {
   "cell_type": "code",
   "execution_count": 66,
   "id": "bd9f113c",
   "metadata": {},
   "outputs": [
    {
     "name": "stdout",
     "output_type": "stream",
     "text": [
      "hello\\j\n"
     ]
    }
   ],
   "source": [
    "print('hello\\j')"
   ]
  },
  {
   "cell_type": "markdown",
   "id": "736c0fd5",
   "metadata": {},
   "source": [
    "## 同一行显示多条语句 \n",
    "1. sys.stdout.write 是标准输入类似print"
   ]
  },
  {
   "cell_type": "code",
   "execution_count": 74,
   "id": "5eda12fb",
   "metadata": {},
   "outputs": [
    {
     "name": "stdout",
     "output_type": "stream",
     "text": [
      " john john johngood\n"
     ]
    }
   ],
   "source": [
    "import sys; x =' john'; sys.stdout.write(x+x+x);print('good'）"
   ]
  },
  {
   "cell_type": "markdown",
   "id": "8036f49a",
   "metadata": {},
   "source": [
    "##  end = '' \n",
    "- 表示不换行"
   ]
  },
  {
   "cell_type": "code",
   "execution_count": 76,
   "id": "70b7ee0f",
   "metadata": {},
   "outputs": [],
   "source": [
    "a ='x'\n",
    "b = 'y'"
   ]
  },
  {
   "cell_type": "code",
   "execution_count": 79,
   "id": "e6233bcc",
   "metadata": {},
   "outputs": [
    {
     "name": "stdout",
     "output_type": "stream",
     "text": [
      "xy"
     ]
    }
   ],
   "source": [
    "print(a,end = \"\")\n",
    "print(b,end = \"\")"
   ]
  },
  {
   "cell_type": "code",
   "execution_count": null,
   "id": "46d767ec",
   "metadata": {},
   "outputs": [],
   "source": []
  }
 ],
 "metadata": {
  "kernelspec": {
   "display_name": "Python 3 (ipykernel)",
   "language": "python",
   "name": "python3"
  },
  "language_info": {
   "codemirror_mode": {
    "name": "ipython",
    "version": 3
   },
   "file_extension": ".py",
   "mimetype": "text/x-python",
   "name": "python",
   "nbconvert_exporter": "python",
   "pygments_lexer": "ipython3",
   "version": "3.9.7"
  }
 },
 "nbformat": 4,
 "nbformat_minor": 5
}
